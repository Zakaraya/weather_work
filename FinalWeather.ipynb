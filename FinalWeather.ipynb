{
 "cells": [
  {
   "cell_type": "code",
   "execution_count": 1,
   "id": "d770e3d3",
   "metadata": {},
   "outputs": [],
   "source": [
    "import pandas as pd\n",
    "import matplotlib.pyplot as plt\n",
    "from sklearn.linear_model import LinearRegression\n",
    "from sklearn.model_selection import train_test_split\n",
    "from datetime import timedelta\n",
    "from sklearn.metrics import mean_squared_error"
   ]
  },
  {
   "cell_type": "markdown",
   "id": "e3925399",
   "metadata": {},
   "source": [
    "##### Считываем данные"
   ]
  },
  {
   "cell_type": "code",
   "execution_count": 2,
   "id": "8b484a12",
   "metadata": {},
   "outputs": [],
   "source": [
    "data_weather =  pd.read_excel(r'C:\\Users\\Борис\\JupyterProject\\WeatherAPI\\weatherSPB_2016_2019.xls', sheet_name = 'weather', \n",
    "                              parse_dates = ['date_time'], \n",
    "                              usecols = ['date_time', 'T', 'U', 'Td'])\n",
    "\n",
    "# Конвертация поля date_time из типа object в тип datetime64\n",
    "data_weather['date_time'] = data_weather['date_time'].astype('datetime64[ns]')\n",
    "\n",
    "# Удаление Series с пустыми значениями\n",
    "data_weather = data_weather.dropna(how = 'any', axis = 0)\n",
    "\n",
    "# Запись данных в новые поля month и year\n",
    "data_weather['month'] = data_weather['date_time'].dt.month\n",
    "data_weather['year'] = data_weather['date_time'].dt.year"
   ]
  },
  {
   "cell_type": "markdown",
   "id": "69840289",
   "metadata": {},
   "source": [
    "##### Перевод чисел в название месяцев"
   ]
  },
  {
   "cell_type": "code",
   "execution_count": 3,
   "id": "e34abb23",
   "metadata": {},
   "outputs": [],
   "source": [
    "def month_name_rus(num):\n",
    "    \"\"\"Функция, для преобразования числа в название месяца на русском языке\"\"\"\n",
    "    \n",
    "    ru = ['январь', 'февраль', 'март', 'апрель', 'май', 'июнь', 'июль', 'август', 'сентябрь',\n",
    "          'октябрь', 'ноябрь', 'декабрь']\n",
    "    return ru[num - 1]"
   ]
  },
  {
   "cell_type": "markdown",
   "id": "7f538e86",
   "metadata": {},
   "source": [
    "##### Поиск максимальной и минимальной температуры"
   ]
  },
  {
   "cell_type": "code",
   "execution_count": 4,
   "id": "7aba98d0",
   "metadata": {},
   "outputs": [],
   "source": [
    "def min_max_search(df):\n",
    "    \"\"\"Функция для поиска максимального и минимального значения температуры из входного DataFrame\"\"\"\n",
    "    \n",
    "    # Создание DataFrame min_max_df и запись в него min и max от T\n",
    "    min_max_df = df.groupby('month', as_index=False).agg({'T': ['min', 'max']})\n",
    "    \n",
    "    # Применение функции month_name_rus к полю month\n",
    "    min_max_df['month'] = min_max_df['month'].apply(month_name_rus)\n",
    "    \n",
    "    # Переименование колонок\n",
    "    min_max_df.columns = ['Месяц', 'Минимальная T', 'Максимальная T']\n",
    "    \n",
    "    # Запись в Excel\n",
    "    min_max_df.to_excel('./output_min_max_t.xls', index=False)\n",
    "\n",
    "    return min_max_df"
   ]
  },
  {
   "cell_type": "markdown",
   "id": "877213f0",
   "metadata": {},
   "source": [
    "##### Прогнозирование погоды"
   ]
  },
  {
   "cell_type": "code",
   "execution_count": 12,
   "id": "42b48cdc",
   "metadata": {},
   "outputs": [],
   "source": [
    "def forecast_weather(df):\n",
    "    \"\"\"Функиця прогнозирования температуры на январь 2020 года\"\"\"\n",
    "    \n",
    "    # Создание нового DataFrame для обучения\n",
    "    jan_df = df[(df['month'] == 1)]\n",
    "    jan_df = jan_df.dropna(how = 'any', axis = 0)\n",
    "    \n",
    "    # Создание тестовых и обучаемых данных\n",
    "    features = jan_df.drop(['T','date_time', 'month', 'year'], axis=1)\n",
    "    temp = jan_df['T'] \n",
    "    X_train, X_test, Y_train, Y_test = train_test_split(features, temp, test_size=0.2, shuffle= False)\n",
    "    \n",
    "    # Создание и тренировка объекта линейной регрессии\n",
    "    regressor = LinearRegression()\n",
    "    regressor.fit(X_train, Y_train)\n",
    "    \n",
    "    # Запись в новый DataFrame input_df_result данных о январе 2019 года\n",
    "    input_df_result = df[(df['month'] == 1)  & (df['year'] == 2019)]\n",
    "    \n",
    "    # Объединение данных по полю date_time\n",
    "    input_df_result = input_df_result.groupby('date_time', as_index=False)\n",
    "    \n",
    "    # Добавление года к дате\n",
    "    input_df_result = input_df_result.first()['date_time'] + timedelta(days=365)\n",
    " \n",
    "    # Выбор 31 дня из предсказанных данных\n",
    "    pred = regressor.predict(X_test)[:31]\n",
    "    \n",
    "    # Добавление данных о предсказанной температуре\n",
    "    input_df_result = pd.concat([input_df_result, pd.DataFrame(pred, columns=[\"Температура\"])], axis=1)\n",
    "    \n",
    "    # Преобразование вывода температуры\n",
    "    input_df_result['Температура'] = input_df_result['Температура'].map('{:,.1f}'.format).astype('float64')\n",
    "    \n",
    "    # Запись в Excel\n",
    "    input_df_result.to_excel('./predict_weather.xls', index=False)\n",
    "    \n",
    "    # Средняя квадратичная ошибка\n",
    "    mse = mean_squared_error(Y_test, regressor.predict(X_test))\n",
    "    print(\"MSE\", mse)\n",
    "    \n",
    "    return input_df_result"
   ]
  },
  {
   "cell_type": "markdown",
   "id": "c683c333",
   "metadata": {},
   "source": [
    "##### Вызов функций"
   ]
  },
  {
   "cell_type": "code",
   "execution_count": 13,
   "id": "cf610e7a",
   "metadata": {
    "scrolled": true
   },
   "outputs": [
    {
     "name": "stdout",
     "output_type": "stream",
     "text": [
      "MSE 0.011323081452484477\n"
     ]
    },
    {
     "name": "stderr",
     "output_type": "stream",
     "text": [
      "<ipython-input-4-0f9b81d8d613>:14: FutureWarning: As the xlwt package is no longer maintained, the xlwt engine will be removed in a future version of pandas. This is the only engine in pandas that supports writing in the xls format. Install openpyxl and write to an xlsx file instead. You can set the option io.excel.xls.writer to 'xlwt' to silence this warning. While this option is deprecated and will also raise a warning, it can be globally set and the warning suppressed.\n",
      "  min_max_df.to_excel('./output_min_max_t.xls', index=False)\n",
      "<ipython-input-12-c53cd0b319b7>:36: FutureWarning: As the xlwt package is no longer maintained, the xlwt engine will be removed in a future version of pandas. This is the only engine in pandas that supports writing in the xls format. Install openpyxl and write to an xlsx file instead. You can set the option io.excel.xls.writer to 'xlwt' to silence this warning. While this option is deprecated and will also raise a warning, it can be globally set and the warning suppressed.\n",
      "  input_df_result.to_excel('./predict_weather.xls', index=False)\n"
     ]
    },
    {
     "data": {
      "text/html": [
       "<div>\n",
       "<style scoped>\n",
       "    .dataframe tbody tr th:only-of-type {\n",
       "        vertical-align: middle;\n",
       "    }\n",
       "\n",
       "    .dataframe tbody tr th {\n",
       "        vertical-align: top;\n",
       "    }\n",
       "\n",
       "    .dataframe thead th {\n",
       "        text-align: right;\n",
       "    }\n",
       "</style>\n",
       "<table border=\"1\" class=\"dataframe\">\n",
       "  <thead>\n",
       "    <tr style=\"text-align: right;\">\n",
       "      <th></th>\n",
       "      <th>date_time</th>\n",
       "      <th>Температура</th>\n",
       "    </tr>\n",
       "  </thead>\n",
       "  <tbody>\n",
       "    <tr>\n",
       "      <th>0</th>\n",
       "      <td>2020-01-01</td>\n",
       "      <td>-6.8</td>\n",
       "    </tr>\n",
       "    <tr>\n",
       "      <th>1</th>\n",
       "      <td>2020-01-02</td>\n",
       "      <td>-7.4</td>\n",
       "    </tr>\n",
       "    <tr>\n",
       "      <th>2</th>\n",
       "      <td>2020-01-03</td>\n",
       "      <td>-7.5</td>\n",
       "    </tr>\n",
       "    <tr>\n",
       "      <th>3</th>\n",
       "      <td>2020-01-04</td>\n",
       "      <td>-7.9</td>\n",
       "    </tr>\n",
       "    <tr>\n",
       "      <th>4</th>\n",
       "      <td>2020-01-05</td>\n",
       "      <td>-8.1</td>\n",
       "    </tr>\n",
       "    <tr>\n",
       "      <th>5</th>\n",
       "      <td>2020-01-06</td>\n",
       "      <td>-8.3</td>\n",
       "    </tr>\n",
       "    <tr>\n",
       "      <th>6</th>\n",
       "      <td>2020-01-07</td>\n",
       "      <td>-8.2</td>\n",
       "    </tr>\n",
       "    <tr>\n",
       "      <th>7</th>\n",
       "      <td>2020-01-08</td>\n",
       "      <td>-5.5</td>\n",
       "    </tr>\n",
       "    <tr>\n",
       "      <th>8</th>\n",
       "      <td>2020-01-09</td>\n",
       "      <td>-5.3</td>\n",
       "    </tr>\n",
       "    <tr>\n",
       "      <th>9</th>\n",
       "      <td>2020-01-10</td>\n",
       "      <td>-6.7</td>\n",
       "    </tr>\n",
       "    <tr>\n",
       "      <th>10</th>\n",
       "      <td>2020-01-11</td>\n",
       "      <td>-8.2</td>\n",
       "    </tr>\n",
       "    <tr>\n",
       "      <th>11</th>\n",
       "      <td>2020-01-12</td>\n",
       "      <td>-10.5</td>\n",
       "    </tr>\n",
       "    <tr>\n",
       "      <th>12</th>\n",
       "      <td>2020-01-13</td>\n",
       "      <td>-11.1</td>\n",
       "    </tr>\n",
       "    <tr>\n",
       "      <th>13</th>\n",
       "      <td>2020-01-14</td>\n",
       "      <td>-11.5</td>\n",
       "    </tr>\n",
       "    <tr>\n",
       "      <th>14</th>\n",
       "      <td>2020-01-15</td>\n",
       "      <td>-13.6</td>\n",
       "    </tr>\n",
       "    <tr>\n",
       "      <th>15</th>\n",
       "      <td>2020-01-16</td>\n",
       "      <td>-12.0</td>\n",
       "    </tr>\n",
       "    <tr>\n",
       "      <th>16</th>\n",
       "      <td>2020-01-17</td>\n",
       "      <td>-14.2</td>\n",
       "    </tr>\n",
       "    <tr>\n",
       "      <th>17</th>\n",
       "      <td>2020-01-18</td>\n",
       "      <td>-19.0</td>\n",
       "    </tr>\n",
       "    <tr>\n",
       "      <th>18</th>\n",
       "      <td>2020-01-19</td>\n",
       "      <td>-22.4</td>\n",
       "    </tr>\n",
       "    <tr>\n",
       "      <th>19</th>\n",
       "      <td>2020-01-20</td>\n",
       "      <td>-22.2</td>\n",
       "    </tr>\n",
       "    <tr>\n",
       "      <th>20</th>\n",
       "      <td>2020-01-21</td>\n",
       "      <td>-22.9</td>\n",
       "    </tr>\n",
       "    <tr>\n",
       "      <th>21</th>\n",
       "      <td>2020-01-22</td>\n",
       "      <td>-23.5</td>\n",
       "    </tr>\n",
       "    <tr>\n",
       "      <th>22</th>\n",
       "      <td>2020-01-23</td>\n",
       "      <td>-21.8</td>\n",
       "    </tr>\n",
       "    <tr>\n",
       "      <th>23</th>\n",
       "      <td>2020-01-24</td>\n",
       "      <td>-20.2</td>\n",
       "    </tr>\n",
       "    <tr>\n",
       "      <th>24</th>\n",
       "      <td>2020-01-25</td>\n",
       "      <td>-19.6</td>\n",
       "    </tr>\n",
       "    <tr>\n",
       "      <th>25</th>\n",
       "      <td>2020-01-26</td>\n",
       "      <td>-17.2</td>\n",
       "    </tr>\n",
       "    <tr>\n",
       "      <th>26</th>\n",
       "      <td>2020-01-27</td>\n",
       "      <td>-16.4</td>\n",
       "    </tr>\n",
       "    <tr>\n",
       "      <th>27</th>\n",
       "      <td>2020-01-28</td>\n",
       "      <td>-15.4</td>\n",
       "    </tr>\n",
       "    <tr>\n",
       "      <th>28</th>\n",
       "      <td>2020-01-29</td>\n",
       "      <td>-14.7</td>\n",
       "    </tr>\n",
       "    <tr>\n",
       "      <th>29</th>\n",
       "      <td>2020-01-30</td>\n",
       "      <td>-12.8</td>\n",
       "    </tr>\n",
       "    <tr>\n",
       "      <th>30</th>\n",
       "      <td>2020-01-31</td>\n",
       "      <td>-12.2</td>\n",
       "    </tr>\n",
       "  </tbody>\n",
       "</table>\n",
       "</div>"
      ],
      "text/plain": [
       "    date_time  Температура\n",
       "0  2020-01-01         -6.8\n",
       "1  2020-01-02         -7.4\n",
       "2  2020-01-03         -7.5\n",
       "3  2020-01-04         -7.9\n",
       "4  2020-01-05         -8.1\n",
       "5  2020-01-06         -8.3\n",
       "6  2020-01-07         -8.2\n",
       "7  2020-01-08         -5.5\n",
       "8  2020-01-09         -5.3\n",
       "9  2020-01-10         -6.7\n",
       "10 2020-01-11         -8.2\n",
       "11 2020-01-12        -10.5\n",
       "12 2020-01-13        -11.1\n",
       "13 2020-01-14        -11.5\n",
       "14 2020-01-15        -13.6\n",
       "15 2020-01-16        -12.0\n",
       "16 2020-01-17        -14.2\n",
       "17 2020-01-18        -19.0\n",
       "18 2020-01-19        -22.4\n",
       "19 2020-01-20        -22.2\n",
       "20 2020-01-21        -22.9\n",
       "21 2020-01-22        -23.5\n",
       "22 2020-01-23        -21.8\n",
       "23 2020-01-24        -20.2\n",
       "24 2020-01-25        -19.6\n",
       "25 2020-01-26        -17.2\n",
       "26 2020-01-27        -16.4\n",
       "27 2020-01-28        -15.4\n",
       "28 2020-01-29        -14.7\n",
       "29 2020-01-30        -12.8\n",
       "30 2020-01-31        -12.2"
      ]
     },
     "execution_count": 13,
     "metadata": {},
     "output_type": "execute_result"
    }
   ],
   "source": [
    "min_max_search(data_weather)\n",
    "forecast_weather(data_weather)"
   ]
  },
  {
   "cell_type": "markdown",
   "id": "e0274973",
   "metadata": {},
   "source": [
    "##### Построение графика"
   ]
  },
  {
   "cell_type": "code",
   "execution_count": 14,
   "id": "3b688bec",
   "metadata": {
    "scrolled": false
   },
   "outputs": [
    {
     "name": "stderr",
     "output_type": "stream",
     "text": [
      "<ipython-input-12-c53cd0b319b7>:36: FutureWarning: As the xlwt package is no longer maintained, the xlwt engine will be removed in a future version of pandas. This is the only engine in pandas that supports writing in the xls format. Install openpyxl and write to an xlsx file instead. You can set the option io.excel.xls.writer to 'xlwt' to silence this warning. While this option is deprecated and will also raise a warning, it can be globally set and the warning suppressed.\n",
      "  input_df_result.to_excel('./predict_weather.xls', index=False)\n"
     ]
    },
    {
     "name": "stdout",
     "output_type": "stream",
     "text": [
      "MSE 0.011323081452484477\n"
     ]
    },
    {
     "data": {
      "image/png": "[encoded data removed]",
      "text/plain": [
       "<Figure size 432x288 with 1 Axes>"
      ]
     },
     "metadata": {
      "needs_background": "light"
     },
     "output_type": "display_data"
    }
   ],
   "source": [
    "forecast_weather(data_weather).plot(x='date_time', y=['Температура'])\n",
    "plt.show()"
   ]
  }
 ],
 "metadata": {
  "kernelspec": {
   "display_name": "Python 3",
   "language": "python",
   "name": "python3"
  },
  "language_info": {
   "codemirror_mode": {
    "name": "ipython",
    "version": 3
   },
   "file_extension": ".py",
   "mimetype": "text/x-python",
   "name": "python",
   "nbconvert_exporter": "python",
   "pygments_lexer": "ipython3",
   "version": "3.8.8"
  }
 },
 "nbformat": 4,
 "nbformat_minor": 5
}
