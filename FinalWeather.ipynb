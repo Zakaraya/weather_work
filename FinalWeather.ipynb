{
 "cells": [
  {
   "cell_type": "code",
   "execution_count": 2,
   "id": "d770e3d3",
   "metadata": {},
   "outputs": [],
   "source": [
    "import pandas as pd\n",
    "import matplotlib.pyplot as plt\n",
    "import numpy as np\n",
    "from sklearn.linear_model import LinearRegression\n",
    "from sklearn.tree import DecisionTreeRegressor\n",
    "from sklearn.model_selection import train_test_split\n",
    "from datetime import timedelta"
   ]
  },
  {
   "cell_type": "markdown",
   "id": "e3925399",
   "metadata": {},
   "source": [
    "##### Считываем данные"
   ]
  },
  {
   "cell_type": "code",
   "execution_count": 3,
   "id": "8b484a12",
   "metadata": {},
   "outputs": [],
   "source": [
    "data_weather =  pd.read_excel(r'C:\\Users\\Борис\\JupyterProject\\WeatherAPI\\weatherSPB_2016_2019.xls', sheet_name = 'weather', \n",
    "                              parse_dates = ['date_time'], \n",
    "                              usecols = ['date_time', 'T', 'U', 'Td'])\n",
    "\n",
    "# Конвертация поля date_time из типа object в тип datetime64\n",
    "data_weather['date_time'] = data_weather['date_time'].astype('datetime64[ns]')\n",
    "\n",
    "# Удаление Series с пустыми значениями\n",
    "data_weather = data_weather.dropna(how = 'any', axis = 0)\n",
    "\n",
    "# Запись данных в новые поля month и year\n",
    "data_weather['month'] = data_weather['date_time'].dt.month\n",
    "data_weather['year'] = data_weather['date_time'].dt.year"
   ]
  },
  {
   "cell_type": "markdown",
   "id": "c7072a98",
   "metadata": {},
   "source": [
    "##### Перевод чисел в название месяцев"
   ]
  },
  {
   "cell_type": "code",
   "execution_count": 4,
   "id": "e34abb23",
   "metadata": {},
   "outputs": [],
   "source": [
    "def month_name_rus(num):\n",
    "    '''Функция, для преобразования числа в название месяца на русском языке'''\n",
    "    \n",
    "    ru = ['январь', 'февраль', 'март', 'апрель', 'май', 'июнь', 'июль', 'август', 'сентябрь',\n",
    "          'октябрь', 'ноябрь', 'декабрь']\n",
    "    return ru[num - 1]"
   ]
  },
  {
   "cell_type": "markdown",
   "id": "7f538e86",
   "metadata": {},
   "source": [
    "##### Поиск максимальной и минимальной температуры"
   ]
  },
  {
   "cell_type": "code",
   "execution_count": 5,
   "id": "7aba98d0",
   "metadata": {},
   "outputs": [],
   "source": [
    "def min_max_search(df):\n",
    "    '''Функция для поиска максимального и минимального значения температуры из входного DataFrame'''\n",
    "    \n",
    "    # Создание DataFrame min_max_df и запись в него min и max от T\n",
    "    min_max_df = df.groupby('month', as_index=False).agg({'T': ['min', 'max']})\n",
    "    \n",
    "    # Применение функции month_name_rus к полю month\n",
    "    min_max_df['month'] = min_max_df['month'].apply(month_name_rus)\n",
    "    \n",
    "    # Переименование колонок\n",
    "    min_max_df.columns = ['Месяц', 'Минимальная T', 'Максимальная T']\n",
    "    \n",
    "    # Запись в Excel\n",
    "    min_max_df.to_excel('./output_min_max_t.xls', index=False)\n",
    "\n",
    "    return min_max_df"
   ]
  },
  {
   "cell_type": "markdown",
   "id": "877213f0",
   "metadata": {},
   "source": [
    "##### Прогнозирование погоды"
   ]
  },
  {
   "cell_type": "code",
   "execution_count": 6,
   "id": "42b48cdc",
   "metadata": {
    "collapsed": true
   },
   "outputs": [
    {
     "name": "stdout",
     "output_type": "stream",
     "text": [
      "0.9998317830243304\n",
      "0.9998511294499309\n",
      "16.139510053826296\n"
     ]
    },
    {
     "name": "stderr",
     "output_type": "stream",
     "text": [
      "<ipython-input-6-8daf0577360c>:34: FutureWarning: As the xlwt package is no longer maintained, the xlwt engine will be removed in a future version of pandas. This is the only engine in pandas that supports writing in the xls format. Install openpyxl and write to an xlsx file instead. You can set the option io.excel.xls.writer to 'xlwt' to silence this warning. While this option is deprecated and will also raise a warning, it can be globally set and the warning suppressed.\n",
      "  input_df_result.to_excel('./predict_weather.xls', index=False)\n"
     ]
    }
   ],
   "source": [
    "# Создание нового DataFrame для обучения\n",
    "jan_df = input_df_result = data_weather[(data_weather['month'] == 1)]\n",
    "jan_df = jan_df.dropna(how = 'any', axis = 0)\n",
    "\n",
    "# Создание тестовых и обучаемых данных\n",
    "features = jan_df.drop(['T','date_time', 'month', 'year'], axis=1)\n",
    "temp = jan_df['T']\n",
    "\n",
    "X_train, X_test, Y_train, Y_test = train_test_split(features, temp, test_size=0.2, random_state=10)\n",
    "\n",
    "# Создание и тренировка объекта линейной регрессии\n",
    "regressor = LinearRegression()\n",
    "regressor.fit(X_train, Y_train)\n",
    "\n",
    "# Коэффициенты детерминации\n",
    "print(regressor.score(X_train, Y_train))\n",
    "print(regressor.score(X_test, Y_test))\n",
    "print(regressor.intercept_)\n",
    "\n",
    "# Запись в новый DataFrame input_df_result данных о январе 2019 года\n",
    "input_df_result = data_weather[(data_weather['month'] == 1)  & (data_weather['year'] == 2019)]\n",
    "\n",
    "# Объединение данных по полю date_time\n",
    "input_df_result = input_df_result.groupby('date_time', as_index=False)\n",
    "\n",
    "# Добавление года к дате\n",
    "input_df_result = input_df_result.first()['date_time'] + timedelta(days=365)\n",
    "pred = regressor.predict(X_test)[:31]\n",
    "\n",
    "# Добавление данных о предсказанной температуре\n",
    "input_df_result = pd.concat([input_df_result, pd.DataFrame(pred, columns=[\"Температура\"])], axis=1)\n",
    "\n",
    "# Запись в Excel\n",
    "input_df_result.to_excel('./predict_weather.xls', index=False)"
   ]
  },
  {
   "cell_type": "code",
   "execution_count": 8,
   "id": "4de684a1",
   "metadata": {},
   "outputs": [
    {
     "name": "stdout",
     "output_type": "stream",
     "text": [
      "MSE: 0.0075\n"
     ]
    }
   ],
   "source": [
    "# Среднее квадратичное отклонение\n",
    "from sklearn.metrics import mean_squared_error\n",
    "mse = mean_squared_error(Y_test, regressor.predict(X_test))\n",
    "print(\"MSE: %.4f\" % mse)"
   ]
  },
  {
   "cell_type": "code",
   "execution_count": null,
   "id": "be3e59b1",
   "metadata": {},
   "outputs": [],
   "source": []
  },
  {
   "cell_type": "code",
   "execution_count": null,
   "id": "cf610e7a",
   "metadata": {},
   "outputs": [],
   "source": [
    "min_max_search(data_weather)"
   ]
  }
 ],
 "metadata": {
  "kernelspec": {
   "display_name": "Python 3",
   "language": "python",
   "name": "python3"
  },
  "language_info": {
   "codemirror_mode": {
    "name": "ipython",
    "version": 3
   },
   "file_extension": ".py",
   "mimetype": "text/x-python",
   "name": "python",
   "nbconvert_exporter": "python",
   "pygments_lexer": "ipython3",
   "version": "3.8.8"
  }
 },
 "nbformat": 4,
 "nbformat_minor": 5
}
