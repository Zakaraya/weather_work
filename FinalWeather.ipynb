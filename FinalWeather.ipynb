{
 "cells": [
  {
   "cell_type": "code",
   "execution_count": 1,
   "id": "9f2e07ab",
   "metadata": {
    "collapsed": true
   },
   "outputs": [
    {
     "name": "stdout",
     "output_type": "stream",
     "text": [
      "Requirement already satisfied: pandas in c:\\users\\борис\\appdata\\local\\programs\\python\\python38\\lib\\site-packages (1.2.4)"
     ]
    },
    {
     "name": "stderr",
     "output_type": "stream",
     "text": [
      "WARNING: You are using pip version 20.2.3; however, version 21.1.2 is available.\n",
      "You should consider upgrading via the 'c:\\users\\борис\\appdata\\local\\programs\\python\\python38\\python.exe -m pip install --upgrade pip' command.\n"
     ]
    },
    {
     "name": "stdout",
     "output_type": "stream",
     "text": [
      "\n",
      "Requirement already satisfied: pytz>=2017.3 in c:\\users\\борис\\appdata\\local\\programs\\python\\python38\\lib\\site-packages (from pandas) (2021.1)\n",
      "Requirement already satisfied: numpy>=1.16.5 in c:\\users\\борис\\appdata\\local\\programs\\python\\python38\\lib\\site-packages (from pandas) (1.20.3)\n",
      "Requirement already satisfied: python-dateutil>=2.7.3 in c:\\users\\борис\\appdata\\local\\programs\\python\\python38\\lib\\site-packages (from pandas) (2.8.1)\n",
      "Requirement already satisfied: six>=1.5 in c:\\users\\борис\\appdata\\local\\programs\\python\\python38\\lib\\site-packages (from python-dateutil>=2.7.3->pandas) (1.16.0)\n",
      "Requirement already satisfied: matplotlib in c:\\users\\борис\\appdata\\local\\programs\\python\\python38\\lib\\site-packages (3.4.2)\n",
      "Requirement already satisfied: cycler>=0.10 in c:\\users\\борис\\appdata\\local\\programs\\python\\python38\\lib\\site-packages (from matplotlib) (0.10.0)\n",
      "Requirement already satisfied: numpy>=1.16 in c:\\users\\борис\\appdata\\local\\programs\\python\\python38\\lib\\site-packages (from matplotlib) (1.20.3)\n",
      "Requirement already satisfied: kiwisolver>=1.0.1 in c:\\users\\борис\\appdata\\local\\programs\\python\\python38\\lib\\site-packages (from matplotlib) (1.3.1)\n",
      "Requirement already satisfied: python-dateutil>=2.7 in c:\\users\\борис\\appdata\\local\\programs\\python\\python38\\lib\\site-packages (from matplotlib) (2.8.1)\n",
      "Requirement already satisfied: pyparsing>=2.2.1 in c:\\users\\борис\\appdata\\local\\programs\\python\\python38\\lib\\site-packages (from matplotlib) (2.4.7)\n",
      "Requirement already satisfied: pillow>=6.2.0 in c:\\users\\борис\\appdata\\local\\programs\\python\\python38\\lib\\site-packages (from matplotlib) (8.2.0)\n",
      "Requirement already satisfied: six in c:\\users\\борис\\appdata\\local\\programs\\python\\python38\\lib\\site-packages (from cycler>=0.10->matplotlib) (1.16.0)\n"
     ]
    },
    {
     "name": "stderr",
     "output_type": "stream",
     "text": [
      "WARNING: You are using pip version 20.2.3; however, version 21.1.2 is available.\n",
      "You should consider upgrading via the 'c:\\users\\борис\\appdata\\local\\programs\\python\\python38\\python.exe -m pip install --upgrade pip' command.\n"
     ]
    },
    {
     "name": "stdout",
     "output_type": "stream",
     "text": [
      "Requirement already satisfied: xlrd in c:\\users\\борис\\appdata\\local\\programs\\python\\python38\\lib\\site-packages (2.0.1)"
     ]
    },
    {
     "name": "stderr",
     "output_type": "stream",
     "text": [
      "WARNING: You are using pip version 20.2.3; however, version 21.1.2 is available.\n",
      "You should consider upgrading via the 'c:\\users\\борис\\appdata\\local\\programs\\python\\python38\\python.exe -m pip install --upgrade pip' command.\n"
     ]
    },
    {
     "name": "stdout",
     "output_type": "stream",
     "text": [
      "\n",
      "Requirement already satisfied: xlsxwriter in c:\\users\\борис\\appdata\\local\\programs\\python\\python38\\lib\\site-packages (1.4.3)\n",
      "Requirement already satisfied: openpyxl in c:\\users\\борис\\appdata\\local\\programs\\python\\python38\\lib\\site-packages (3.0.7)\n",
      "Requirement already satisfied: et-xmlfile in c:\\users\\борис\\appdata\\local\\programs\\python\\python38\\lib\\site-packages (from openpyxl) (1.1.0)\n"
     ]
    },
    {
     "name": "stderr",
     "output_type": "stream",
     "text": [
      "WARNING: You are using pip version 20.2.3; however, version 21.1.2 is available.\n",
      "You should consider upgrading via the 'c:\\users\\борис\\appdata\\local\\programs\\python\\python38\\python.exe -m pip install --upgrade pip' command.\n"
     ]
    },
    {
     "name": "stdout",
     "output_type": "stream",
     "text": [
      "Requirement already satisfied: xlwt in c:\\users\\борис\\appdata\\local\\programs\\python\\python38\\lib\\site-packages (1.3.0)\n"
     ]
    },
    {
     "name": "stderr",
     "output_type": "stream",
     "text": [
      "WARNING: You are using pip version 20.2.3; however, version 21.1.2 is available.\n",
      "You should consider upgrading via the 'c:\\users\\борис\\appdata\\local\\programs\\python\\python38\\python.exe -m pip install --upgrade pip' command.\n"
     ]
    }
   ],
   "source": [
    "!pip install pandas\n",
    "!pip install matplotlib\n",
    "!pip install xlrd\n",
    "!pip install xlsxwriter openpyxl\n",
    "!pip install xlwt"
   ]
  },
  {
   "cell_type": "code",
   "execution_count": 1,
   "id": "d770e3d3",
   "metadata": {},
   "outputs": [],
   "source": [
    "import pandas as pd\n",
    "import matplotlib.pyplot as plt\n",
    "import numpy as np\n",
    "from sklearn.linear_model import LinearRegression\n",
    "from sklearn.tree import DecisionTreeRegressor\n",
    "from sklearn.model_selection import train_test_split\n",
    "from datetime import timedelta"
   ]
  },
  {
   "cell_type": "markdown",
   "id": "e3925399",
   "metadata": {},
   "source": [
    "##### Считываем данные"
   ]
  },
  {
   "cell_type": "code",
   "execution_count": 30,
   "id": "8b484a12",
   "metadata": {},
   "outputs": [],
   "source": [
    "data_weather =  pd.read_excel(r'C:\\Users\\Борис\\JupyterProject\\WeatherAPI\\weatherSPB_2016_2019.xls', sheet_name = 'weather', \n",
    "                              parse_dates = ['date_time'], \n",
    "                              usecols = ['date_time', 'T', 'U', 'Td'])\n",
    "\n",
    "\n",
    "data_weather = data_weather.dropna(how = 'any', axis = 0)"
   ]
  },
  {
   "cell_type": "code",
   "execution_count": null,
   "id": "e34abb23",
   "metadata": {},
   "outputs": [],
   "source": [
    "def month_name_rus(num):\n",
    "    '''Функция, для преобразования числа в название месяца на русском языке'''\n",
    "    \n",
    "    ru = ['январь', 'февраль', 'март', 'апрель', 'май', 'июнь', 'июль', 'август', 'сентябрь',\n",
    "          'октябрь', 'ноябрь', 'декабрь']\n",
    "    return ru[num - 1]"
   ]
  },
  {
   "cell_type": "markdown",
   "id": "7f538e86",
   "metadata": {},
   "source": [
    "##### Поиск максимальной и минимальной температуры"
   ]
  },
  {
   "cell_type": "code",
   "execution_count": null,
   "id": "7aba98d0",
   "metadata": {},
   "outputs": [],
   "source": [
    "def min_max_search(df):\n",
    "    '''Функция для поиска максимального и минимального значения температуры из входного DataFrame'''\n",
    "    \n",
    "    # Конвертация поля date_time из типа object в тип datetime64\n",
    "    df['date_time'] = df['date_time'].astype('datetime64[ns]')\n",
    "    \n",
    "    # Создание нового поля month и запись в него месяца от даты\n",
    "    df['month'] = df['date_time'].dt.month\n",
    "    \n",
    "    # Создание DataFrame min_max_df и запись в него min и max от T\n",
    "    min_max_df = df.groupby('month', as_index=False).agg({'T': ['min', 'max']})\n",
    "    \n",
    "    # Применение функции month_name_rus к полю month\n",
    "    min_max_df['month'] = min_max_df['month'].apply(month_name_rus)\n",
    "    \n",
    "    # Переименование колонок\n",
    "    min_max_df.columns = ['Месяц', 'Минимальная T', 'Максимальная T']\n",
    "    \n",
    "    # Запись в Excel\n",
    "    min_max_df.to_excel('./output_min_max_t.xls', index=False)\n",
    "\n",
    "    return min_max_df"
   ]
  },
  {
   "cell_type": "markdown",
   "id": "877213f0",
   "metadata": {},
   "source": [
    "##### Прогнозирование погоды"
   ]
  },
  {
   "cell_type": "code",
   "execution_count": 31,
   "id": "42b48cdc",
   "metadata": {},
   "outputs": [
    {
     "name": "stdout",
     "output_type": "stream",
     "text": [
      "0.9998317830243304\n",
      "0.9998511294499309\n",
      "16.139510053826296\n"
     ]
    },
    {
     "name": "stderr",
     "output_type": "stream",
     "text": [
      "<ipython-input-31-2fd938b5604e>:45: FutureWarning: As the xlwt package is no longer maintained, the xlwt engine will be removed in a future version of pandas. This is the only engine in pandas that supports writing in the xls format. Install openpyxl and write to an xlsx file instead. You can set the option io.excel.xls.writer to 'xlwt' to silence this warning. While this option is deprecated and will also raise a warning, it can be globally set and the warning suppressed.\n",
      "  input_df_result.to_excel('./predict_weather.xls', index=False)\n"
     ]
    },
    {
     "data": {
      "text/plain": [
       "array([-20.76,  -4.12, -17.74, -13.5 , -10.11, -15.4 , -17.99, -17.1 ,\n",
       "        -0.45,   0.84, -14.36, -17.88, -20.66,   0.71,  -1.15,  -9.86,\n",
       "         0.88, -17.86,  -8.13, -10.01,   0.79,  -0.37,  -1.55,   2.05,\n",
       "       -22.11,   0.6 ,  -1.8 ,  -3.71,  -4.56,   3.23,  -0.49])"
      ]
     },
     "execution_count": 31,
     "metadata": {},
     "output_type": "execute_result"
    }
   ],
   "source": [
    "# Конвертация поля date_time из типа object в тип datetime64\n",
    "data_weather['date_time'] = data_weather['date_time'].astype('datetime64[ns]')\n",
    "\n",
    "# Запись данных в новые поля month и year\n",
    "data_weather['month'] = data_weather['date_time'].dt.month\n",
    "data_weather['year'] = data_weather['date_time'].dt.year\n",
    "\n",
    "# Создание нового DataFrame для обучения\n",
    "jan_df = input_df_result = data_weather[(data_weather['month'] == 1)]\n",
    "jan_df = jan_df.dropna(how = 'any', axis = 0)\n",
    "\n",
    "# Создание тестовых и обучаемых данных\n",
    "features = jan_df.drop(['T','date_time', 'month', 'year'], axis=1)\n",
    "temp = jan_df['T']\n",
    "\n",
    "X_train, X_test, Y_train, Y_test = train_test_split(features, temp, test_size=0.2, random_state=10)\n",
    "\n",
    "# Создание и тренировка объекта линейной регрессии\n",
    "regressor = LinearRegression()\n",
    "regressor.fit(X_train, Y_train)\n",
    "\n",
    "# Коэффициенты детерминации\n",
    "print(regressor.score(X_train, Y_train))\n",
    "print(regressor.score(X_test, Y_test))\n",
    "\n",
    "print(regressor.intercept_)\n",
    "pd.DataFrame(data=regressor.coef_, index=X_train.columns, columns=['coef'])\n",
    "\n",
    "# Запись в новый DataFrame input_df_result данных о январе 2019 года\n",
    "input_df_result = data_weather[(data_weather['month'] == 1)  & (data_weather['year'] == 2019)]\n",
    "\n",
    "# Объединение данных по полю date_time\n",
    "input_df_result = input_df_result.groupby('date_time', as_index=False)\n",
    "\n",
    "# Добавление года к дате\n",
    "input_df_result = input_df_result.first()['date_time'] + timedelta(days=365)\n",
    "pred = regressor.predict(X_test)[:31]\n",
    "\n",
    "\n",
    "\n",
    "# Добавление данных о предсказанной температуре\n",
    "input_df_result = pd.concat([input_df_result, pd.DataFrame(pred, columns=[\"Температура\"])], axis=1)\n",
    "\n",
    "# Запись в Excel\n",
    "input_df_result.to_excel('./predict_weather.xls', index=False)\n",
    "\n",
    "pred"
   ]
  },
  {
   "cell_type": "code",
   "execution_count": 22,
   "id": "4de684a1",
   "metadata": {},
   "outputs": [
    {
     "name": "stdout",
     "output_type": "stream",
     "text": [
      "MSE: 0.0075\n",
      "[ -5.31517486 -10.12443279  -2.83268689  -1.6597731  -11.00313955\n",
      "  -0.09136415  -6.58937677  -8.02686833  -7.07650272  -5.4784645\n",
      "  -1.37222338  -7.5158561  -18.32451473 -15.07883708  -3.54810401\n",
      " -10.64784533   3.82861537 -11.57915332 -21.70385275 -18.0121644\n",
      "  -0.81918158   1.42352924  -3.87285464   3.89453123  -6.3734859\n",
      "  -0.67494956  -1.1315319   -3.16318051  -6.46994536  -1.16781849\n",
      "   0.40724777]\n"
     ]
    }
   ],
   "source": [
    "from sklearn.metrics import mean_squared_error\n",
    "mse = mean_squared_error(Y_test, regressor.predict(X_test))\n",
    "print(\"MSE: %.4f\" % mse)\n",
    "\n",
    "\n",
    "print(regressor.predict(X_test)[-31:])"
   ]
  },
  {
   "cell_type": "code",
   "execution_count": null,
   "id": "be3e59b1",
   "metadata": {},
   "outputs": [],
   "source": []
  },
  {
   "cell_type": "code",
   "execution_count": null,
   "id": "cf610e7a",
   "metadata": {},
   "outputs": [],
   "source": [
    "min_max_search(data_weather)"
   ]
  }
 ],
 "metadata": {
  "kernelspec": {
   "display_name": "Python 3",
   "language": "python",
   "name": "python3"
  },
  "language_info": {
   "codemirror_mode": {
    "name": "ipython",
    "version": 3
   },
   "file_extension": ".py",
   "mimetype": "text/x-python",
   "name": "python",
   "nbconvert_exporter": "python",
   "pygments_lexer": "ipython3",
   "version": "3.8.8"
  }
 },
 "nbformat": 4,
 "nbformat_minor": 5
}
